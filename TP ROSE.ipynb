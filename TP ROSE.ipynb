{
 "cells": [
  {
   "cell_type": "markdown",
   "metadata": {},
   "source": [
    "Exo 1 TD\n",
    "==="
   ]
  },
  {
   "cell_type": "code",
   "execution_count": 77,
   "metadata": {
    "collapsed": false
   },
   "outputs": [],
   "source": [
    "from tkinter import *\n",
    "\n",
    "def dot(cnv, C, R=6, color='red'):\n",
    "    xC, yC=C\n",
    "    A=(xC-R, yC-R)\n",
    "    B=(xC+R, yC+R)\n",
    "    return cnv.create_oval(A,B, fill=color, outline=color)\n",
    "\n",
    "WIDTH=800\n",
    "HEIGHT=650\n",
    "\n",
    "root = Tk()\n",
    "cnv = Canvas(root, width=WIDTH, height=HEIGHT, background=\"blue\")\n",
    "cnv.pack()\n",
    "\n",
    "C = (50, 50)\n",
    "P=\"white\"\n",
    "for j in range(0,7):\n",
    "    n=50+(j-1)*110\n",
    "    for i in range(0,8):\n",
    "        if i==5 and j==2:\n",
    "            P=\"red\"\n",
    "        elif i==3 and j==6:\n",
    "            P=\"yellow\"\n",
    "        dot(cnv, C, R=50, color=P)\n",
    "        C=(50+i*110,n)\n",
    "        P=\"white\"\n",
    "    C=(50,n)\n",
    "\n",
    "root.mainloop()"
   ]
  },
  {
   "cell_type": "markdown",
   "metadata": {},
   "source": [
    "Exo 2 TD:\n",
    "===="
   ]
  },
  {
   "cell_type": "code",
   "execution_count": 71,
   "metadata": {
    "collapsed": true
   },
   "outputs": [],
   "source": [
    "from tkinter import *\n",
    "h=500\n",
    "w=500\n",
    "\n",
    "root = Tk()\n",
    "cnv = Canvas(root, width=w, height=h, background=\"green\")\n",
    "cnv.pack()*\n",
    "\n",
    "root.mainloop()"
   ]
  },
  {
   "cell_type": "code",
   "execution_count": 84,
   "metadata": {
    "collapsed": false
   },
   "outputs": [],
   "source": [
    "from random import sample\n",
    "from tkinter import Tk, Canvas\n",
    "\n",
    "\n",
    "\n",
    "def random_forest(p, n):\n",
    "    units=[(line,col) for col in range(n) for line in range(n)]\n",
    "    ntrees=int(n**2*p)\n",
    "    trees=sample(units,ntrees)\n",
    "    states=[[0]*n for _ in range(n)]\n",
    "    for (i,j) in trees:\n",
    "        states[i][j]=1\n",
    "    return states\n",
    "\n",
    "\n",
    "\n",
    "p=0.60\n",
    "n=50\n",
    "unit=10\n",
    "\n",
    "\n",
    "root = Tk()\n",
    "cnv = Canvas(root, width=unit*n, height=unit*n, background=\"ivory\")\n",
    "cnv.pack()\n",
    "\n",
    "\n",
    "states=random_forest(p, n)\n",
    "\n",
    "\n",
    "fill(states)\n",
    "\n",
    "root.mainloop()\n"
   ]
  },
  {
   "cell_type": "code",
   "execution_count": null,
   "metadata": {
    "collapsed": true
   },
   "outputs": [],
   "source": []
  }
 ],
 "metadata": {
  "kernelspec": {
   "display_name": "Python 3",
   "language": "python",
   "name": "python3"
  },
  "language_info": {
   "codemirror_mode": {
    "name": "ipython",
    "version": 3
   },
   "file_extension": ".py",
   "mimetype": "text/x-python",
   "name": "python",
   "nbconvert_exporter": "python",
   "pygments_lexer": "ipython3",
   "version": "3.5.3"
  }
 },
 "nbformat": 4,
 "nbformat_minor": 2
}
