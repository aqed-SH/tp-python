{
 "cells": [
  {
   "cell_type": "markdown",
   "metadata": {},
   "source": [
    "Exo 1 TD\n",
    "==="
   ]
  },
  {
   "cell_type": "code",
   "execution_count": 3,
   "metadata": {
    "collapsed": false
   },
   "outputs": [
    {
     "ename": "NameError",
     "evalue": "name 'dot' is not defined",
     "output_type": "error",
     "traceback": [
      "\u001b[0;31m---------------------------------------------------------------------------\u001b[0m",
      "\u001b[0;31mNameError\u001b[0m                                 Traceback (most recent call last)",
      "\u001b[0;32m<ipython-input-3-ad30a162d309>\u001b[0m in \u001b[0;36m<module>\u001b[0;34m()\u001b[0m\n\u001b[1;32m     12\u001b[0m         \u001b[0;32melif\u001b[0m \u001b[0mi\u001b[0m\u001b[0;34m==\u001b[0m\u001b[0;36m3\u001b[0m \u001b[0;32mand\u001b[0m \u001b[0mj\u001b[0m\u001b[0;34m==\u001b[0m\u001b[0;36m6\u001b[0m\u001b[0;34m:\u001b[0m\u001b[0;34m\u001b[0m\u001b[0m\n\u001b[1;32m     13\u001b[0m             \u001b[0mP\u001b[0m\u001b[0;34m=\u001b[0m\u001b[0;34m\"yellow\"\u001b[0m\u001b[0;34m\u001b[0m\u001b[0m\n\u001b[0;32m---> 14\u001b[0;31m         \u001b[0mdot\u001b[0m\u001b[0;34m(\u001b[0m\u001b[0mcnv\u001b[0m\u001b[0;34m,\u001b[0m \u001b[0mC\u001b[0m\u001b[0;34m,\u001b[0m \u001b[0mR\u001b[0m\u001b[0;34m=\u001b[0m\u001b[0;36m50\u001b[0m\u001b[0;34m,\u001b[0m \u001b[0mcolor\u001b[0m\u001b[0;34m=\u001b[0m\u001b[0mP\u001b[0m\u001b[0;34m)\u001b[0m\u001b[0;34m\u001b[0m\u001b[0m\n\u001b[0m\u001b[1;32m     15\u001b[0m         \u001b[0mC\u001b[0m\u001b[0;34m=\u001b[0m\u001b[0;34m(\u001b[0m\u001b[0;36m50\u001b[0m\u001b[0;34m+\u001b[0m\u001b[0mi\u001b[0m\u001b[0;34m*\u001b[0m\u001b[0;36m110\u001b[0m\u001b[0;34m,\u001b[0m\u001b[0mn\u001b[0m\u001b[0;34m)\u001b[0m\u001b[0;34m\u001b[0m\u001b[0m\n\u001b[1;32m     16\u001b[0m         \u001b[0mP\u001b[0m\u001b[0;34m=\u001b[0m\u001b[0;34m\"white\"\u001b[0m\u001b[0;34m\u001b[0m\u001b[0m\n",
      "\u001b[0;31mNameError\u001b[0m: name 'dot' is not defined"
     ]
    }
   ],
   "source": [
    "from tkinter import *\n",
    "\n",
    "\n",
    "\n",
    "C = (50, 50)\n",
    "P=\"white\"\n",
    "for j in range(0,7):\n",
    "    n=50+(j-1)*110\n",
    "    for i in range(0,8):\n",
    "        if i==5 and j==2:\n",
    "            P=\"red\"\n",
    "        elif i==3 and j==6:\n",
    "            P=\"yellow\"\n",
    "        dot(cnv, C, R=50, color=P)\n",
    "        C=(50+i*110,n)\n",
    "        P=\"white\"\n",
    "    C=(50,n)\n",
    "\n",
    "root.mainloop()"
   ]
  },
  {
   "cell_type": "markdown",
   "metadata": {},
   "source": [
    "Exo 2 TD:\n",
    "===="
   ]
  },
  {
   "cell_type": "code",
   "execution_count": 10,
   "metadata": {
    "collapsed": false
   },
   "outputs": [],
   "source": [
    "from tkinter import *\n",
    "h=500\n",
    "w=500\n",
    "\n",
    "root = Tk()\n",
    "cnv = Canvas(root, width=w, height=h, background=\"green\")\n",
    "cnv.pack()\n",
    "\n",
    "root.mainloop()"
   ]
  },
  {
   "cell_type": "code",
   "execution_count": 4,
   "metadata": {
    "collapsed": false
   },
   "outputs": [],
   "source": [
    "from random import sample\n",
    "from tkinter import Tk, Canvas\n",
    "COLORS=[\"ivory\", \"green\"]\n",
    "\n",
    "\n",
    "def random_forest(p, n):\n",
    "    units=[(line,col) for col in range(n) for line in range(n)]\n",
    "    ntrees=int(n**2*p)\n",
    "    trees=sample(units,ntrees)\n",
    "    states=[[0]*n for _ in range(n)]\n",
    "    for (i,j) in trees:\n",
    "        states[i][j]=1\n",
    "    return states\n",
    "\n",
    "def fill_cell(states, line, col):\n",
    "        A=(unit*col, unit*line)\n",
    "        B=(unit*(col+1), unit*(line+1))\n",
    "        state=states[line][col]\n",
    "        color=COLORS[state]\n",
    "        cnv.create_rectangle(A, B, fill=color, outline='')\n",
    "        \n",
    "\n",
    "def fill(states):\n",
    "    n=len(states)\n",
    "    for line in range(n):\n",
    "        for col in range(n):\n",
    "            fill_cell(states, line, col)\n",
    "\n",
    "\n",
    "\n",
    "p=0.60\n",
    "n=50\n",
    "unit=10\n",
    "\n",
    "\n",
    "root = Tk()\n",
    "cnv = Canvas(root, width=unit*n, height=unit*n, background=\"ivory\")\n",
    "cnv.pack()\n",
    "\n",
    "\n",
    "states=random_forest(p, n)\n",
    "\n",
    "\n",
    "fill(states)\n",
    "\n",
    "root.mainloop()\n"
   ]
  },
  {
   "cell_type": "markdown",
   "metadata": {
    "collapsed": true
   },
   "source": [
    "Exo 3\n",
    "===="
   ]
  },
  {
   "cell_type": "code",
   "execution_count": 5,
   "metadata": {
    "collapsed": false
   },
   "outputs": [],
   "source": [
    "from tkinter import *\n",
    "\n",
    "WIDTH=400\n",
    "HEIGHT=400\n",
    "k=2\n",
    "\n",
    "my_root=Tk()\n",
    "cnv=Canvas(my_root, width=WIDTH, height=HEIGHT, background='ivory')\n",
    "cnv.pack()\n",
    "for i in range(0,5):\n",
    "    k=k-1\n",
    "    for j in range(0,5):\n",
    "        x, y=100*j, 100*i\n",
    "        A, B, C=(x, y), (x+100, y+100), (x+50, y+50)\n",
    "        if(i==3 and j==3):\n",
    "            k=0\n",
    "        else:\n",
    "            cnv.create_rectangle(A, B, fill=\"royal blue\")\n",
    "            cnv.create_text(C, text=k, fill=\"black\",font=\"Arial 30 bold\")\n",
    "        k=k+1\n",
    "    \n",
    "my_root.mainloop()"
   ]
  },
  {
   "cell_type": "markdown",
   "metadata": {},
   "source": [
    "Exo 4:\n",
    "===    "
   ]
  },
  {
   "cell_type": "code",
   "execution_count": 6,
   "metadata": {
    "collapsed": false
   },
   "outputs": [],
   "source": [
    "from tkinter import *\n",
    "\n",
    "WIDTH=400\n",
    "HEIGHT=400\n",
    "my_root=Tk()\n",
    "cnv=Canvas(my_root, width=WIDTH, height=HEIGHT, background='ivory')\n",
    "cnv.pack()\n",
    "def dot(cnv, C, R=6, color='red'):\n",
    "    xC, yC=C\n",
    "    A=(xC-R, yC-R)\n",
    "    B=(xC+R, yC+R)\n",
    "    return cnv.create_oval(A,B, fill=color, outline=color)\n",
    "C=(200,200)\n",
    "dot(cnv, C, R=200, color=\"brown\")\n",
    "B=(50,100)\n",
    "for i in range(0,8):\n",
    "    for j in range(0,8):\n",
    "        dot(cnv, B, R=10, color=\"black\")\n",
    "        B=(30*i+50,50*j//2+100)\n",
    "        \n",
    "\n",
    "my_root.mainloop()"
   ]
  },
  {
   "cell_type": "code",
   "execution_count": 7,
   "metadata": {
    "collapsed": false
   },
   "outputs": [],
   "source": [
    "from tkinter import*\n",
    "SIDE = 450\n",
    "\n",
    "fenetre=Tk()\n",
    "cnv=Canvas(fenetre, width=SIDE, height=SIDE)\n",
    "cnv.pack()\n",
    "\n",
    "cnv.create_oval((0,0), (450,450), fill='DarkOrange4')\n",
    "cnv.create_oval((210, 210), (240 ,240), fill='snow4')\n",
    "\n",
    "for i in range(4):\n",
    "    if(i==0):\n",
    "        x = 160\n",
    "        y = 160 \n",
    "        X = 190\n",
    "        Y = 190\n",
    "    \n",
    "    if(i==1):\n",
    "        x = 260\n",
    "        y = 260\n",
    "        X = 290\n",
    "        Y = 290\n",
    "    \n",
    "    if(i==2):\n",
    "        x = 160\n",
    "        y = 360\n",
    "        X = 190\n",
    "        Y = 390\n",
    "    \n",
    "    if(i==3):\n",
    "        x = 60\n",
    "        y = 260\n",
    "        X = 90\n",
    "        Y = 290\n",
    "    \n",
    "    \n",
    "    for k in range(9):\n",
    "        cnv.create_oval((x,y),(X,Y), fill='gray17')\n",
    "        x = x +50\n",
    "        X = X +50\n",
    "        if(k==2):\n",
    "            y = y - 50\n",
    "            Y = Y - 50\n",
    "            x = x - 150\n",
    "            X = X - 150\n",
    "        if(k==5):\n",
    "            y = y - 50\n",
    "            Y = Y - 50\n",
    "            x = x - 150\n",
    "            X = X - 150\n",
    "    \n",
    "fenetre.mainloop()"
   ]
  },
  {
   "cell_type": "markdown",
   "metadata": {},
   "source": [
    "Exo 5:\n",
    "===="
   ]
  },
  {
   "cell_type": "code",
   "execution_count": 10,
   "metadata": {
    "collapsed": false
   },
   "outputs": [],
   "source": [
    "from tkinter import *\n",
    "from random import randrange\n",
    "\n",
    "WIDTH=800\n",
    "HEIGHT=600\n",
    "\n",
    "\n",
    "\n",
    "def origin(A, C, k):\n",
    "    xA, yA=A\n",
    "    xC, yC=C\n",
    "    xAC, yAC=(xC-xA, yC-yA)\n",
    "    AC=(xAC**2+yAC**2)**0.5\n",
    "    xu, yu=(xAC/AC, yAC/AC)\n",
    "    xM=xA+k*xu\n",
    "    yM=yA+k*yu\n",
    "    return (xM, yM)\n",
    "\n",
    "root=Tk()\n",
    "cnv=Canvas(root, width=WIDTH, height=HEIGHT, bg=\"ivory\")\n",
    "cnv.pack()\n",
    "\n",
    "\n",
    "def shot(A, C):\n",
    "    B=origin(A, C, -L)\n",
    "    D=origin(A, C, WIDTH)\n",
    "\n",
    "    cnv.create_line(B,A, width=7, fill=\"green\", arrow='last',\n",
    "                    arrowshape=(18,30, 8))\n",
    "    cnv.create_line(A,D, fill=\"lime green\", dash=3)\n",
    "\n",
    "\n",
    "L=100\n",
    "\n",
    "C=(randrange(WIDTH), randrange(HEIGHT))\n",
    "\n",
    "for _ in range(4):\n",
    "    A=(randrange(WIDTH), randrange(HEIGHT))\n",
    "    shot(A,C)\n",
    "\n",
    "root.mainloop()\n"
   ]
  }
 ],
 "metadata": {
  "kernelspec": {
   "display_name": "Python 3",
   "language": "python",
   "name": "python3"
  },
  "language_info": {
   "codemirror_mode": {
    "name": "ipython",
    "version": 3
   },
   "file_extension": ".py",
   "mimetype": "text/x-python",
   "name": "python",
   "nbconvert_exporter": "python",
   "pygments_lexer": "ipython3",
   "version": "3.5.3"
  }
 },
 "nbformat": 4,
 "nbformat_minor": 2
}
